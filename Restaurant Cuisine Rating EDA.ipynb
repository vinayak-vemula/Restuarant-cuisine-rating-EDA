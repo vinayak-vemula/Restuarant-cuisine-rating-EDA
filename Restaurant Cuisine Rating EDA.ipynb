{
 "cells": [
  {
   "cell_type": "markdown",
   "id": "d2d396f8",
   "metadata": {},
   "source": [
    "# Famous restaurant data which provides food of 5 different origins"
   ]
  },
  {
   "cell_type": "markdown",
   "id": "be5162f6",
   "metadata": {},
   "source": [
    "### Data discription:\n",
    "Data contains the different data related to the food order i restuarant.   "
   ]
  },
  {
   "cell_type": "markdown",
   "id": "adb1c7b0",
   "metadata": {},
   "source": [
    "### Data columns:\n",
    "User ID: User ID of customers                                                                                           \n",
    "Area code: Area code of customers residence.                                                               \n",
    "Location: Area and the city of residence of customer.                                                                   \n",
    "Gender: Gender of customer                                                                                         \n",
    "YOB: Year when customer was born                                                                                      \n",
    "Marital Status: Marital status                                                                                        \n",
    "Activity: Customers career status whether student or professional                                                          \n",
    "Budget: Budget they may spend in the restaurant                                                                 \n",
    "Cuisines: Cuisine they preferred/liked the most to have at restaurant                                             \n",
    "Alcohol: Alcohol intake frequency   "
   ]
  },
  {
   "cell_type": "markdown",
   "id": "a973b507",
   "metadata": {},
   "source": [
    "### We will start by importing python libraries and reading the dataset."
   ]
  },
  {
   "cell_type": "code",
   "execution_count": 29,
   "id": "e5bda0fe",
   "metadata": {},
   "outputs": [],
   "source": [
    "\n",
    "import pandas as pd\n",
    "import numpy as np\n",
    "import matplotlib.pyplot as plt\n",
    "import seaborn as sns\n",
    "import plotly.express as px"
   ]
  },
  {
   "cell_type": "code",
   "execution_count": 2,
   "id": "afafee11",
   "metadata": {},
   "outputs": [],
   "source": [
    "df= pd.read_csv('Cuisine_rating.csv')"
   ]
  },
  {
   "cell_type": "code",
   "execution_count": 3,
   "id": "d7fbcb17",
   "metadata": {},
   "outputs": [
    {
     "data": {
      "text/html": [
       "<div>\n",
       "<style scoped>\n",
       "    .dataframe tbody tr th:only-of-type {\n",
       "        vertical-align: middle;\n",
       "    }\n",
       "\n",
       "    .dataframe tbody tr th {\n",
       "        vertical-align: top;\n",
       "    }\n",
       "\n",
       "    .dataframe thead th {\n",
       "        text-align: right;\n",
       "    }\n",
       "</style>\n",
       "<table border=\"1\" class=\"dataframe\">\n",
       "  <thead>\n",
       "    <tr style=\"text-align: right;\">\n",
       "      <th></th>\n",
       "      <th>User ID</th>\n",
       "      <th>Area code</th>\n",
       "      <th>Location</th>\n",
       "      <th>Gender</th>\n",
       "      <th>YOB</th>\n",
       "      <th>Marital Status</th>\n",
       "      <th>Activity</th>\n",
       "      <th>Budget</th>\n",
       "      <th>Cuisines</th>\n",
       "      <th>Alcohol</th>\n",
       "      <th>Smoker</th>\n",
       "      <th>Food Rating</th>\n",
       "      <th>Service Rating</th>\n",
       "      <th>Overall Rating</th>\n",
       "      <th>Often A S</th>\n",
       "    </tr>\n",
       "  </thead>\n",
       "  <tbody>\n",
       "    <tr>\n",
       "      <th>0</th>\n",
       "      <td>1</td>\n",
       "      <td>153</td>\n",
       "      <td>Upper East Side,NY</td>\n",
       "      <td>Female</td>\n",
       "      <td>2006</td>\n",
       "      <td>Single</td>\n",
       "      <td>Professional</td>\n",
       "      <td>3</td>\n",
       "      <td>Japanese</td>\n",
       "      <td>Never</td>\n",
       "      <td>Never</td>\n",
       "      <td>5</td>\n",
       "      <td>4</td>\n",
       "      <td>4.5</td>\n",
       "      <td>No</td>\n",
       "    </tr>\n",
       "    <tr>\n",
       "      <th>1</th>\n",
       "      <td>2</td>\n",
       "      <td>123</td>\n",
       "      <td>St. George,NY</td>\n",
       "      <td>Female</td>\n",
       "      <td>1991</td>\n",
       "      <td>Married</td>\n",
       "      <td>Student</td>\n",
       "      <td>3</td>\n",
       "      <td>Indian</td>\n",
       "      <td>Never</td>\n",
       "      <td>Socially</td>\n",
       "      <td>1</td>\n",
       "      <td>1</td>\n",
       "      <td>1.0</td>\n",
       "      <td>No</td>\n",
       "    </tr>\n",
       "    <tr>\n",
       "      <th>2</th>\n",
       "      <td>3</td>\n",
       "      <td>122</td>\n",
       "      <td>Upper West Side,NY</td>\n",
       "      <td>Male</td>\n",
       "      <td>1977</td>\n",
       "      <td>Single</td>\n",
       "      <td>Student</td>\n",
       "      <td>5</td>\n",
       "      <td>Seafood</td>\n",
       "      <td>Often</td>\n",
       "      <td>Often</td>\n",
       "      <td>5</td>\n",
       "      <td>5</td>\n",
       "      <td>5.0</td>\n",
       "      <td>Yes</td>\n",
       "    </tr>\n",
       "    <tr>\n",
       "      <th>3</th>\n",
       "      <td>4</td>\n",
       "      <td>153</td>\n",
       "      <td>Upper East Side,NY</td>\n",
       "      <td>Female</td>\n",
       "      <td>1956</td>\n",
       "      <td>Married</td>\n",
       "      <td>Professional</td>\n",
       "      <td>5</td>\n",
       "      <td>Japanese</td>\n",
       "      <td>Never</td>\n",
       "      <td>Socially</td>\n",
       "      <td>3</td>\n",
       "      <td>1</td>\n",
       "      <td>2.0</td>\n",
       "      <td>No</td>\n",
       "    </tr>\n",
       "    <tr>\n",
       "      <th>4</th>\n",
       "      <td>5</td>\n",
       "      <td>129</td>\n",
       "      <td>Central Park,NY</td>\n",
       "      <td>Male</td>\n",
       "      <td>1997</td>\n",
       "      <td>Single</td>\n",
       "      <td>Student</td>\n",
       "      <td>4</td>\n",
       "      <td>Filipino</td>\n",
       "      <td>Socially</td>\n",
       "      <td>Never</td>\n",
       "      <td>2</td>\n",
       "      <td>4</td>\n",
       "      <td>3.0</td>\n",
       "      <td>No</td>\n",
       "    </tr>\n",
       "  </tbody>\n",
       "</table>\n",
       "</div>"
      ],
      "text/plain": [
       "   User ID  Area code            Location  Gender   YOB Marital Status  \\\n",
       "0        1        153  Upper East Side,NY  Female  2006         Single   \n",
       "1        2        123       St. George,NY  Female  1991        Married   \n",
       "2        3        122  Upper West Side,NY    Male  1977         Single   \n",
       "3        4        153  Upper East Side,NY  Female  1956        Married   \n",
       "4        5        129     Central Park,NY    Male  1997         Single   \n",
       "\n",
       "       Activity  Budget  Cuisines  Alcohol     Smoker  Food Rating  \\\n",
       "0  Professional       3  Japanese     Never     Never            5   \n",
       "1       Student       3    Indian     Never  Socially            1   \n",
       "2       Student       5   Seafood     Often     Often            5   \n",
       "3  Professional       5  Japanese     Never  Socially            3   \n",
       "4       Student       4  Filipino  Socially     Never            2   \n",
       "\n",
       "   Service Rating  Overall Rating Often A S  \n",
       "0               4             4.5        No  \n",
       "1               1             1.0        No  \n",
       "2               5             5.0       Yes  \n",
       "3               1             2.0        No  \n",
       "4               4             3.0        No  "
      ]
     },
     "execution_count": 3,
     "metadata": {},
     "output_type": "execute_result"
    }
   ],
   "source": [
    "df.head() "
   ]
  },
  {
   "cell_type": "markdown",
   "id": "0036ab19",
   "metadata": {},
   "source": [
    "### Shape of dataset"
   ]
  },
  {
   "cell_type": "code",
   "execution_count": 4,
   "id": "999547ad",
   "metadata": {},
   "outputs": [
    {
     "data": {
      "text/plain": [
       "(200, 15)"
      ]
     },
     "execution_count": 4,
     "metadata": {},
     "output_type": "execute_result"
    }
   ],
   "source": [
    "df.shape"
   ]
  },
  {
   "cell_type": "markdown",
   "id": "e425cdbc",
   "metadata": {},
   "source": [
    "### Summary of Dataset"
   ]
  },
  {
   "cell_type": "code",
   "execution_count": 5,
   "id": "2e1f796a",
   "metadata": {},
   "outputs": [
    {
     "data": {
      "text/html": [
       "<div>\n",
       "<style scoped>\n",
       "    .dataframe tbody tr th:only-of-type {\n",
       "        vertical-align: middle;\n",
       "    }\n",
       "\n",
       "    .dataframe tbody tr th {\n",
       "        vertical-align: top;\n",
       "    }\n",
       "\n",
       "    .dataframe thead th {\n",
       "        text-align: right;\n",
       "    }\n",
       "</style>\n",
       "<table border=\"1\" class=\"dataframe\">\n",
       "  <thead>\n",
       "    <tr style=\"text-align: right;\">\n",
       "      <th></th>\n",
       "      <th>User ID</th>\n",
       "      <th>Area code</th>\n",
       "      <th>YOB</th>\n",
       "      <th>Budget</th>\n",
       "      <th>Food Rating</th>\n",
       "      <th>Service Rating</th>\n",
       "      <th>Overall Rating</th>\n",
       "    </tr>\n",
       "  </thead>\n",
       "  <tbody>\n",
       "    <tr>\n",
       "      <th>count</th>\n",
       "      <td>200.000000</td>\n",
       "      <td>200.000000</td>\n",
       "      <td>200.000000</td>\n",
       "      <td>200.000000</td>\n",
       "      <td>200.000000</td>\n",
       "      <td>200.000000</td>\n",
       "      <td>200.000000</td>\n",
       "    </tr>\n",
       "    <tr>\n",
       "      <th>mean</th>\n",
       "      <td>100.500000</td>\n",
       "      <td>141.060000</td>\n",
       "      <td>1984.830000</td>\n",
       "      <td>3.815000</td>\n",
       "      <td>3.220000</td>\n",
       "      <td>3.230000</td>\n",
       "      <td>3.225000</td>\n",
       "    </tr>\n",
       "    <tr>\n",
       "      <th>std</th>\n",
       "      <td>57.879185</td>\n",
       "      <td>26.130257</td>\n",
       "      <td>16.809339</td>\n",
       "      <td>1.056578</td>\n",
       "      <td>1.411226</td>\n",
       "      <td>1.526022</td>\n",
       "      <td>1.079445</td>\n",
       "    </tr>\n",
       "    <tr>\n",
       "      <th>min</th>\n",
       "      <td>1.000000</td>\n",
       "      <td>101.000000</td>\n",
       "      <td>1955.000000</td>\n",
       "      <td>1.000000</td>\n",
       "      <td>1.000000</td>\n",
       "      <td>1.000000</td>\n",
       "      <td>1.000000</td>\n",
       "    </tr>\n",
       "    <tr>\n",
       "      <th>25%</th>\n",
       "      <td>50.750000</td>\n",
       "      <td>123.000000</td>\n",
       "      <td>1971.000000</td>\n",
       "      <td>3.000000</td>\n",
       "      <td>2.000000</td>\n",
       "      <td>2.000000</td>\n",
       "      <td>2.500000</td>\n",
       "    </tr>\n",
       "    <tr>\n",
       "      <th>50%</th>\n",
       "      <td>100.500000</td>\n",
       "      <td>135.000000</td>\n",
       "      <td>1987.000000</td>\n",
       "      <td>4.000000</td>\n",
       "      <td>3.000000</td>\n",
       "      <td>3.000000</td>\n",
       "      <td>3.000000</td>\n",
       "    </tr>\n",
       "    <tr>\n",
       "      <th>75%</th>\n",
       "      <td>150.250000</td>\n",
       "      <td>158.000000</td>\n",
       "      <td>2000.000000</td>\n",
       "      <td>5.000000</td>\n",
       "      <td>5.000000</td>\n",
       "      <td>5.000000</td>\n",
       "      <td>4.000000</td>\n",
       "    </tr>\n",
       "    <tr>\n",
       "      <th>max</th>\n",
       "      <td>200.000000</td>\n",
       "      <td>199.000000</td>\n",
       "      <td>2009.000000</td>\n",
       "      <td>5.000000</td>\n",
       "      <td>5.000000</td>\n",
       "      <td>5.000000</td>\n",
       "      <td>5.000000</td>\n",
       "    </tr>\n",
       "  </tbody>\n",
       "</table>\n",
       "</div>"
      ],
      "text/plain": [
       "          User ID   Area code          YOB      Budget  Food Rating  \\\n",
       "count  200.000000  200.000000   200.000000  200.000000   200.000000   \n",
       "mean   100.500000  141.060000  1984.830000    3.815000     3.220000   \n",
       "std     57.879185   26.130257    16.809339    1.056578     1.411226   \n",
       "min      1.000000  101.000000  1955.000000    1.000000     1.000000   \n",
       "25%     50.750000  123.000000  1971.000000    3.000000     2.000000   \n",
       "50%    100.500000  135.000000  1987.000000    4.000000     3.000000   \n",
       "75%    150.250000  158.000000  2000.000000    5.000000     5.000000   \n",
       "max    200.000000  199.000000  2009.000000    5.000000     5.000000   \n",
       "\n",
       "       Service Rating  Overall Rating  \n",
       "count      200.000000      200.000000  \n",
       "mean         3.230000        3.225000  \n",
       "std          1.526022        1.079445  \n",
       "min          1.000000        1.000000  \n",
       "25%          2.000000        2.500000  \n",
       "50%          3.000000        3.000000  \n",
       "75%          5.000000        4.000000  \n",
       "max          5.000000        5.000000  "
      ]
     },
     "execution_count": 5,
     "metadata": {},
     "output_type": "execute_result"
    }
   ],
   "source": [
    "df.describe()"
   ]
  },
  {
   "cell_type": "markdown",
   "id": "e5af0017",
   "metadata": {},
   "source": [
    "### Check Datatype of dataset\n"
   ]
  },
  {
   "cell_type": "code",
   "execution_count": 6,
   "id": "2f5cc2dc",
   "metadata": {},
   "outputs": [
    {
     "name": "stdout",
     "output_type": "stream",
     "text": [
      "<class 'pandas.core.frame.DataFrame'>\n",
      "RangeIndex: 200 entries, 0 to 199\n",
      "Data columns (total 15 columns):\n",
      " #   Column          Non-Null Count  Dtype  \n",
      "---  ------          --------------  -----  \n",
      " 0   User ID         200 non-null    int64  \n",
      " 1   Area code       200 non-null    int64  \n",
      " 2   Location        200 non-null    object \n",
      " 3   Gender          200 non-null    object \n",
      " 4   YOB             200 non-null    int64  \n",
      " 5   Marital Status  200 non-null    object \n",
      " 6   Activity        200 non-null    object \n",
      " 7   Budget          200 non-null    int64  \n",
      " 8   Cuisines        200 non-null    object \n",
      " 9   Alcohol         200 non-null    object \n",
      " 10  Smoker          200 non-null    object \n",
      " 11  Food Rating     200 non-null    int64  \n",
      " 12  Service Rating  200 non-null    int64  \n",
      " 13  Overall Rating  200 non-null    float64\n",
      " 14  Often A S       200 non-null    object \n",
      "dtypes: float64(1), int64(6), object(8)\n",
      "memory usage: 23.6+ KB\n"
     ]
    }
   ],
   "source": [
    "df.info()"
   ]
  },
  {
   "cell_type": "code",
   "execution_count": 7,
   "id": "89498dcf",
   "metadata": {},
   "outputs": [
    {
     "data": {
      "text/plain": [
       "Index(['User ID', 'Area code', 'Location', 'Gender', 'YOB', 'Marital Status',\n",
       "       'Activity', 'Budget', 'Cuisines', 'Alcohol ', 'Smoker', 'Food Rating',\n",
       "       'Service Rating', 'Overall Rating', 'Often A S'],\n",
       "      dtype='object')"
      ]
     },
     "execution_count": 7,
     "metadata": {},
     "output_type": "execute_result"
    }
   ],
   "source": [
    "df.columns"
   ]
  },
  {
   "cell_type": "markdown",
   "id": "406c31d0",
   "metadata": {},
   "source": [
    "### Dropping columns which are not usefull for EDA"
   ]
  },
  {
   "cell_type": "code",
   "execution_count": 8,
   "id": "65feca4c",
   "metadata": {},
   "outputs": [],
   "source": [
    "df.drop(df.columns[[0]],axis = 1, inplace=True)"
   ]
  },
  {
   "cell_type": "code",
   "execution_count": 9,
   "id": "2899a513",
   "metadata": {},
   "outputs": [
    {
     "data": {
      "text/html": [
       "<div>\n",
       "<style scoped>\n",
       "    .dataframe tbody tr th:only-of-type {\n",
       "        vertical-align: middle;\n",
       "    }\n",
       "\n",
       "    .dataframe tbody tr th {\n",
       "        vertical-align: top;\n",
       "    }\n",
       "\n",
       "    .dataframe thead th {\n",
       "        text-align: right;\n",
       "    }\n",
       "</style>\n",
       "<table border=\"1\" class=\"dataframe\">\n",
       "  <thead>\n",
       "    <tr style=\"text-align: right;\">\n",
       "      <th></th>\n",
       "      <th>Area code</th>\n",
       "      <th>Location</th>\n",
       "      <th>Gender</th>\n",
       "      <th>YOB</th>\n",
       "      <th>Marital Status</th>\n",
       "      <th>Activity</th>\n",
       "      <th>Budget</th>\n",
       "      <th>Cuisines</th>\n",
       "      <th>Alcohol</th>\n",
       "      <th>Smoker</th>\n",
       "      <th>Food Rating</th>\n",
       "      <th>Service Rating</th>\n",
       "      <th>Overall Rating</th>\n",
       "      <th>Often A S</th>\n",
       "    </tr>\n",
       "  </thead>\n",
       "  <tbody>\n",
       "    <tr>\n",
       "      <th>0</th>\n",
       "      <td>153</td>\n",
       "      <td>Upper East Side,NY</td>\n",
       "      <td>Female</td>\n",
       "      <td>2006</td>\n",
       "      <td>Single</td>\n",
       "      <td>Professional</td>\n",
       "      <td>3</td>\n",
       "      <td>Japanese</td>\n",
       "      <td>Never</td>\n",
       "      <td>Never</td>\n",
       "      <td>5</td>\n",
       "      <td>4</td>\n",
       "      <td>4.5</td>\n",
       "      <td>No</td>\n",
       "    </tr>\n",
       "    <tr>\n",
       "      <th>1</th>\n",
       "      <td>123</td>\n",
       "      <td>St. George,NY</td>\n",
       "      <td>Female</td>\n",
       "      <td>1991</td>\n",
       "      <td>Married</td>\n",
       "      <td>Student</td>\n",
       "      <td>3</td>\n",
       "      <td>Indian</td>\n",
       "      <td>Never</td>\n",
       "      <td>Socially</td>\n",
       "      <td>1</td>\n",
       "      <td>1</td>\n",
       "      <td>1.0</td>\n",
       "      <td>No</td>\n",
       "    </tr>\n",
       "    <tr>\n",
       "      <th>2</th>\n",
       "      <td>122</td>\n",
       "      <td>Upper West Side,NY</td>\n",
       "      <td>Male</td>\n",
       "      <td>1977</td>\n",
       "      <td>Single</td>\n",
       "      <td>Student</td>\n",
       "      <td>5</td>\n",
       "      <td>Seafood</td>\n",
       "      <td>Often</td>\n",
       "      <td>Often</td>\n",
       "      <td>5</td>\n",
       "      <td>5</td>\n",
       "      <td>5.0</td>\n",
       "      <td>Yes</td>\n",
       "    </tr>\n",
       "    <tr>\n",
       "      <th>3</th>\n",
       "      <td>153</td>\n",
       "      <td>Upper East Side,NY</td>\n",
       "      <td>Female</td>\n",
       "      <td>1956</td>\n",
       "      <td>Married</td>\n",
       "      <td>Professional</td>\n",
       "      <td>5</td>\n",
       "      <td>Japanese</td>\n",
       "      <td>Never</td>\n",
       "      <td>Socially</td>\n",
       "      <td>3</td>\n",
       "      <td>1</td>\n",
       "      <td>2.0</td>\n",
       "      <td>No</td>\n",
       "    </tr>\n",
       "    <tr>\n",
       "      <th>4</th>\n",
       "      <td>129</td>\n",
       "      <td>Central Park,NY</td>\n",
       "      <td>Male</td>\n",
       "      <td>1997</td>\n",
       "      <td>Single</td>\n",
       "      <td>Student</td>\n",
       "      <td>4</td>\n",
       "      <td>Filipino</td>\n",
       "      <td>Socially</td>\n",
       "      <td>Never</td>\n",
       "      <td>2</td>\n",
       "      <td>4</td>\n",
       "      <td>3.0</td>\n",
       "      <td>No</td>\n",
       "    </tr>\n",
       "  </tbody>\n",
       "</table>\n",
       "</div>"
      ],
      "text/plain": [
       "   Area code            Location  Gender   YOB Marital Status      Activity  \\\n",
       "0        153  Upper East Side,NY  Female  2006         Single  Professional   \n",
       "1        123       St. George,NY  Female  1991        Married       Student   \n",
       "2        122  Upper West Side,NY    Male  1977         Single       Student   \n",
       "3        153  Upper East Side,NY  Female  1956        Married  Professional   \n",
       "4        129     Central Park,NY    Male  1997         Single       Student   \n",
       "\n",
       "   Budget  Cuisines  Alcohol     Smoker  Food Rating  Service Rating  \\\n",
       "0       3  Japanese     Never     Never            5               4   \n",
       "1       3    Indian     Never  Socially            1               1   \n",
       "2       5   Seafood     Often     Often            5               5   \n",
       "3       5  Japanese     Never  Socially            3               1   \n",
       "4       4  Filipino  Socially     Never            2               4   \n",
       "\n",
       "   Overall Rating Often A S  \n",
       "0             4.5        No  \n",
       "1             1.0        No  \n",
       "2             5.0       Yes  \n",
       "3             2.0        No  \n",
       "4             3.0        No  "
      ]
     },
     "execution_count": 9,
     "metadata": {},
     "output_type": "execute_result"
    }
   ],
   "source": [
    "df.head()"
   ]
  },
  {
   "cell_type": "code",
   "execution_count": 10,
   "id": "fda46035",
   "metadata": {},
   "outputs": [
    {
     "data": {
      "text/plain": [
       "(200, 14)"
      ]
     },
     "execution_count": 10,
     "metadata": {},
     "output_type": "execute_result"
    }
   ],
   "source": [
    "df.shape"
   ]
  },
  {
   "cell_type": "markdown",
   "id": "54314cc7",
   "metadata": {},
   "source": [
    "### Checking for null values in Dataset"
   ]
  },
  {
   "cell_type": "code",
   "execution_count": 11,
   "id": "94e1aee7",
   "metadata": {},
   "outputs": [
    {
     "data": {
      "text/plain": [
       "Area code         0\n",
       "Location          0\n",
       "Gender            0\n",
       "YOB               0\n",
       "Marital Status    0\n",
       "Activity          0\n",
       "Budget            0\n",
       "Cuisines          0\n",
       "Alcohol           0\n",
       "Smoker            0\n",
       "Food Rating       0\n",
       "Service Rating    0\n",
       "Overall Rating    0\n",
       "Often A S         0\n",
       "dtype: int64"
      ]
     },
     "execution_count": 11,
     "metadata": {},
     "output_type": "execute_result"
    }
   ],
   "source": [
    "df.isnull().sum()"
   ]
  },
  {
   "cell_type": "markdown",
   "id": "2192acbe",
   "metadata": {},
   "source": [
    "### Checking for any duplicates in Dataset and droping them"
   ]
  },
  {
   "cell_type": "code",
   "execution_count": 12,
   "id": "317b4574",
   "metadata": {},
   "outputs": [
    {
     "data": {
      "text/plain": [
       "False    199\n",
       "True       1\n",
       "dtype: int64"
      ]
     },
     "execution_count": 12,
     "metadata": {},
     "output_type": "execute_result"
    }
   ],
   "source": [
    "df.duplicated().value_counts()"
   ]
  },
  {
   "cell_type": "code",
   "execution_count": 13,
   "id": "828448c7",
   "metadata": {},
   "outputs": [],
   "source": [
    "df1=df.drop_duplicates()"
   ]
  },
  {
   "cell_type": "code",
   "execution_count": 14,
   "id": "fe0fd94c",
   "metadata": {},
   "outputs": [
    {
     "data": {
      "text/plain": [
       "False    199\n",
       "dtype: int64"
      ]
     },
     "execution_count": 14,
     "metadata": {},
     "output_type": "execute_result"
    }
   ],
   "source": [
    "df1.duplicated().value_counts()"
   ]
  },
  {
   "cell_type": "markdown",
   "id": "feaebccd",
   "metadata": {},
   "source": [
    "### Exploring Data"
   ]
  },
  {
   "cell_type": "code",
   "execution_count": 15,
   "id": "e68ad8d6",
   "metadata": {},
   "outputs": [
    {
     "name": "stdout",
     "output_type": "stream",
     "text": [
      "We have 6 numerical features: ['Area code', 'YOB', 'Budget', 'Food Rating', 'Service Rating', 'Overall Rating']\n",
      "We have 8 categorical features: ['Location', 'Gender', 'Marital Status', 'Activity', 'Cuisines', 'Alcohol ', 'Smoker', 'Often A S']\n"
     ]
    }
   ],
   "source": [
    "numerical_features= [features for features in df.columns if df[features].dtypes != 'O']\n",
    "categorical_features = [features for features in df.columns if df[features].dtypes == 'O']\n",
    "\n",
    "print('We have {} numerical features: {}'.format(len(numerical_features),numerical_features))\n",
    "print('We have {} categorical features: {}'.format(len(categorical_features),categorical_features))\n",
    "\n"
   ]
  },
  {
   "cell_type": "markdown",
   "id": "9fe4c065",
   "metadata": {},
   "source": [
    "### Checking the number of unique values in each of the columns"
   ]
  },
  {
   "cell_type": "code",
   "execution_count": 16,
   "id": "748d72a8",
   "metadata": {},
   "outputs": [
    {
     "data": {
      "text/plain": [
       "Area code         65\n",
       "Location          10\n",
       "Gender             2\n",
       "YOB               46\n",
       "Marital Status     3\n",
       "Activity           2\n",
       "Budget             5\n",
       "Cuisines           7\n",
       "Alcohol            3\n",
       "Smoker             3\n",
       "Food Rating        5\n",
       "Service Rating     5\n",
       "Overall Rating     9\n",
       "Often A S          2\n",
       "dtype: int64"
      ]
     },
     "execution_count": 16,
     "metadata": {},
     "output_type": "execute_result"
    }
   ],
   "source": [
    "df1.nunique()"
   ]
  },
  {
   "cell_type": "markdown",
   "id": "37eb04cc",
   "metadata": {},
   "source": [
    "### Checking the correlation between the columns of dataset"
   ]
  },
  {
   "cell_type": "code",
   "execution_count": 17,
   "id": "e8ae4ad1",
   "metadata": {
    "scrolled": true
   },
   "outputs": [
    {
     "data": {
      "image/png": "[encoded data removed]",
      "text/plain": [
       "<Figure size 1152x576 with 2 Axes>"
      ]
     },
     "metadata": {
      "needs_background": "light"
     },
     "output_type": "display_data"
    }
   ],
   "source": [
    "plt.figure(figsize = (16,8))\n",
    "sns.heatmap(data=df1.corr(),cmap='CMRmap',annot=True)\n",
    "plt.show()"
   ]
  },
  {
   "cell_type": "markdown",
   "id": "51f1c3ee",
   "metadata": {},
   "source": [
    "## Visualization"
   ]
  },
  {
   "cell_type": "markdown",
   "id": "0413c534",
   "metadata": {},
   "source": [
    "### Checking the most rated food in cuisines."
   ]
  },
  {
   "cell_type": "code",
   "execution_count": 18,
   "id": "8144651f",
   "metadata": {},
   "outputs": [],
   "source": [
    "Toprated_cuisines= df1.groupby('Cuisines')['Food Rating'].sum().sort_values(ascending= False)"
   ]
  },
  {
   "cell_type": "code",
   "execution_count": 19,
   "id": "85ed6e7b",
   "metadata": {},
   "outputs": [
    {
     "data": {
      "text/plain": [
       "Cuisines\n",
       "Japanese    139\n",
       "French      110\n",
       "Filipino     92\n",
       "Indian       89\n",
       "Chinese      83\n",
       "Seafood      71\n",
       "Italian      58\n",
       "Name: Food Rating, dtype: int64"
      ]
     },
     "execution_count": 19,
     "metadata": {},
     "output_type": "execute_result"
    }
   ],
   "source": [
    "Toprated_cuisines"
   ]
  },
  {
   "cell_type": "code",
   "execution_count": 20,
   "id": "98c4ff2d",
   "metadata": {},
   "outputs": [
    {
     "data": {
      "image/png": "[encoded data removed]",
      "text/plain": [
       "<Figure size 864x432 with 1 Axes>"
      ]
     },
     "metadata": {
      "needs_background": "light"
     },
     "output_type": "display_data"
    }
   ],
   "source": [
    "plt.figure(figsize=(12,6))\n",
    "plt.title('Most rated cuisines ')\n",
    "\n",
    "sns.barplot(x='Food Rating', y = 'Cuisines',data = df1, palette = 'Set1')\n",
    "plt.show()"
   ]
  },
  {
   "cell_type": "markdown",
   "id": "a958c8b6",
   "metadata": {},
   "source": [
    "##### The above graph shows that the most rated cuisine is japanese followed by french and chinese"
   ]
  },
  {
   "cell_type": "markdown",
   "id": "2b67393b",
   "metadata": {},
   "source": [
    "### Getting an overview of each categorical column"
   ]
  },
  {
   "cell_type": "code",
   "execution_count": 21,
   "id": "dde4c56a",
   "metadata": {},
   "outputs": [
    {
     "name": "stderr",
     "output_type": "stream",
     "text": [
      "C:\\Users\\NANI\\anaconda3\\lib\\site-packages\\seaborn\\_decorators.py:36: FutureWarning: Pass the following variable as a keyword arg: x. From version 0.12, the only valid positional argument will be `data`, and passing other arguments without an explicit keyword will result in an error or misinterpretation.\n",
      "  warnings.warn(\n",
      "C:\\Users\\NANI\\anaconda3\\lib\\site-packages\\seaborn\\_decorators.py:36: FutureWarning: Pass the following variable as a keyword arg: x. From version 0.12, the only valid positional argument will be `data`, and passing other arguments without an explicit keyword will result in an error or misinterpretation.\n",
      "  warnings.warn(\n",
      "C:\\Users\\NANI\\anaconda3\\lib\\site-packages\\seaborn\\_decorators.py:36: FutureWarning: Pass the following variable as a keyword arg: x. From version 0.12, the only valid positional argument will be `data`, and passing other arguments without an explicit keyword will result in an error or misinterpretation.\n",
      "  warnings.warn(\n",
      "C:\\Users\\NANI\\anaconda3\\lib\\site-packages\\seaborn\\_decorators.py:36: FutureWarning: Pass the following variable as a keyword arg: x. From version 0.12, the only valid positional argument will be `data`, and passing other arguments without an explicit keyword will result in an error or misinterpretation.\n",
      "  warnings.warn(\n",
      "C:\\Users\\NANI\\anaconda3\\lib\\site-packages\\seaborn\\_decorators.py:36: FutureWarning: Pass the following variable as a keyword arg: x. From version 0.12, the only valid positional argument will be `data`, and passing other arguments without an explicit keyword will result in an error or misinterpretation.\n",
      "  warnings.warn(\n"
     ]
    },
    {
     "data": {
      "image/png": "[encoded data removed]",
      "text/plain": [
       "<Figure size 960x960 with 6 Axes>"
      ]
     },
     "metadata": {
      "needs_background": "light"
     },
     "output_type": "display_data"
    }
   ],
   "source": [
    "plt.figure(figsize=(12,12),dpi=80)\n",
    "plt.subplot(3,2,1)\n",
    "plt.title('Location')\n",
    "plt.xticks(rotation=90)\n",
    "sns.countplot(x='Location',data=df1,palette='muted')\n",
    "\n",
    "#plt.subplot(4,2,3)\n",
    "#plt.title('Age')\n",
    "#sns.countplot(x='Age',data=df1,palette='rocket')\n",
    "\n",
    "plt.subplot(3,2,2)\n",
    "plt.title('Gender')\n",
    "sns.countplot(df1['Gender'],palette='colorblind')\n",
    "\n",
    "plt.subplot(3,2,3)\n",
    "plt.title('Activity')\n",
    "sns.countplot(df1['Activity'],palette='crest')\n",
    "\n",
    "plt.subplot(3,2,5)\n",
    "plt.title('Alcohol ')\n",
    "sns.countplot(df1['Alcohol '],palette='coolwarm')\n",
    "\n",
    "plt.subplot(3,2,4)\n",
    "plt.title('Marital Status')\n",
    "sns.countplot(df1['Marital Status'],palette='hot')\n",
    "\n",
    "#ax=plt.subplot(3,2,5)\n",
    "#plt.title('Alcohol')\n",
    "#ax.set_ylim(0,0.00015)\n",
    "#ax.set_xlim(0,26000)\n",
    "#sns.kdeplot(df1['Alcohol'])\n",
    "\n",
    "plt.subplot(3,2,6)\n",
    "plt.title('Smoker')\n",
    "sns.countplot(df1['Smoker'],palette='viridis')\n",
    "\n",
    "plt.tight_layout()\n",
    "plt.show()"
   ]
  },
  {
   "cell_type": "code",
   "execution_count": 22,
   "id": "a6875138",
   "metadata": {},
   "outputs": [
    {
     "data": {
      "text/plain": [
       "St. George,NY         46\n",
       "Upper East Side,NY    30\n",
       "Riverdale,NY          28\n",
       "Central Park,NY       24\n",
       "China Town, NY        22\n",
       "Market City, NY       20\n",
       "Upper West Side,NY    18\n",
       "Central Park,ny        8\n",
       "Market City, MY        2\n",
       "Cedar Hill, NY         2\n",
       "Name: Location, dtype: int64"
      ]
     },
     "execution_count": 22,
     "metadata": {},
     "output_type": "execute_result"
    }
   ],
   "source": [
    "df['Location'].value_counts()"
   ]
  },
  {
   "cell_type": "markdown",
   "id": "30875578",
   "metadata": {},
   "source": [
    "##### Location:-\n",
    "-Location graph shows that most number of restuarant from different locations.                                                                    \n",
    "-St. George,NY has the highest number of resturant with 40+ restuarant followed by Upper East Side,NY and Riverdale,NY with 30,28 restuarant respectively\n",
    "\n",
    "\n"
   ]
  },
  {
   "cell_type": "markdown",
   "id": "5f223a8d",
   "metadata": {},
   "source": [
    "##### Gender:-\n",
    " -Gender graph shows that male cutomers tends to go to the restuarants more often then females.                                       \n",
    " -Male count:120                                                                                                                \n",
    " -female count:80"
   ]
  },
  {
   "cell_type": "markdown",
   "id": "7012de33",
   "metadata": {},
   "source": [
    "\n",
    "##### Activity & Marital status:-\n",
    "-Most of the customer who visit restuarants more often are students and who are single, divorce seems to be exceptonal.\n"
   ]
  },
  {
   "cell_type": "markdown",
   "id": "c6649718",
   "metadata": {},
   "source": [
    "### Most rated cusines based on gender"
   ]
  },
  {
   "cell_type": "code",
   "execution_count": 30,
   "id": "7d22b1cf",
   "metadata": {},
   "outputs": [
    {
     "data": {
      "image/png": "[encoded data removed]",
      "text/plain": [
       "<Figure size 1080x720 with 1 Axes>"
      ]
     },
     "metadata": {
      "needs_background": "light"
     },
     "output_type": "display_data"
    }
   ],
   "source": [
    "plt.figure(figsize=(15,10))\n",
    "plt.title('Most rated cuisines based on Gender ')\n",
    "\n",
    "sns.countplot(x='Cuisines',hue ='Gender',data = df1, palette = 'Set1')\n",
    "plt.show()"
   ]
  },
  {
   "cell_type": "markdown",
   "id": "1c88c6b2",
   "metadata": {},
   "source": [
    "Above bar graph shows that most males preferred japanese, indian and Filipino, whereas french is preferred by females."
   ]
  },
  {
   "cell_type": "code",
   "execution_count": 31,
   "id": "f8974537",
   "metadata": {},
   "outputs": [
    {
     "data": {
      "text/plain": [
       "<AxesSubplot:xlabel='Food Rating'>"
      ]
     },
     "execution_count": 31,
     "metadata": {},
     "output_type": "execute_result"
    },
    {
     "data": {
      "text/plain": [
       "<Figure size 1080x432 with 0 Axes>"
      ]
     },
     "metadata": {},
     "output_type": "display_data"
    },
    {
     "data": {
      "image/png": "[encoded data removed]",
      "text/plain": [
       "<Figure size 1080x432 with 1 Axes>"
      ]
     },
     "metadata": {
      "needs_background": "light"
     },
     "output_type": "display_data"
    }
   ],
   "source": [
    "plt.figure(figsize=(15,6))\n",
    "pd.crosstab(df['Food Rating'], df['Gender'], margins=True).iloc[0:-1].plot(kind='bar',figsize=(15,6))"
   ]
  },
  {
   "cell_type": "code",
   "execution_count": 32,
   "id": "a8c03ffc",
   "metadata": {},
   "outputs": [
    {
     "data": {
      "text/plain": [
       "<AxesSubplot:xlabel='Service Rating'>"
      ]
     },
     "execution_count": 32,
     "metadata": {},
     "output_type": "execute_result"
    },
    {
     "data": {
      "text/plain": [
       "<Figure size 1080x432 with 0 Axes>"
      ]
     },
     "metadata": {},
     "output_type": "display_data"
    },
    {
     "data": {
      "image/png": "[encoded data removed]",
      "text/plain": [
       "<Figure size 1080x432 with 1 Axes>"
      ]
     },
     "metadata": {
      "needs_background": "light"
     },
     "output_type": "display_data"
    }
   ],
   "source": [
    "plt.figure(figsize=(15,6))\n",
    "pd.crosstab(df['Service Rating'], df['Gender'], margins=True).iloc[0:-1].plot(kind='bar',figsize=(15,6))"
   ]
  },
  {
   "cell_type": "markdown",
   "id": "a72d2373",
   "metadata": {},
   "source": [
    "# Conclusion:\n"
   ]
  },
  {
   "cell_type": "markdown",
   "id": "70682294",
   "metadata": {},
   "source": [
    "##### -Data is pretty much clean with no null values observerd"
   ]
  },
  {
   "cell_type": "markdown",
   "id": "1193e198",
   "metadata": {},
   "source": [
    "##### -By looking at describe table and rating graph it can be seen that mean of rating for food and service is 3.2, customers behaviour on rating mostly depends on the food and service offered by restuarant. By inspecting the graphs it as seen that males are most likely to examine the quality of food and servicce based on which they prefer to rate where as women most preferably give 5* if they like the service and food.  The mean age of customers visiting restuarant are 38 years old."
   ]
  },
  {
   "cell_type": "markdown",
   "id": "a400db10",
   "metadata": {},
   "source": [
    "##### -The most rated cuisine by customers is japanese followed by french and filipino, italian is least preferred."
   ]
  },
  {
   "cell_type": "markdown",
   "id": "dd256bac",
   "metadata": {},
   "source": [
    "##### -St. George,NY has the highest number of resturant with 40+ restuarant followed by Upper East Side,NY and Riverdale,NY with 30,28 restuarant respectively.Most customer visits restaurant are students than professional. however, those who have never consumed alcohol are most likely to visit restuarant then who consume socially.Smokers doesn't make any major difference weather they smoke or not the proportion of socially and often smokers are larger.\n",
    "\n"
   ]
  },
  {
   "cell_type": "markdown",
   "id": "34ce2707",
   "metadata": {},
   "source": [
    "##### -The most preferred cuisine preferred by males are japanese, indian and filipino whereas chinese and french have slightly less preferred with italian being the least preferred. Females are most likely to eat japanese,french and chinese, and seafoods are least preferred."
   ]
  },
  {
   "cell_type": "code",
   "execution_count": null,
   "id": "84c49f4c",
   "metadata": {},
   "outputs": [],
   "source": [
    "-"
   ]
  }
 ],
 "metadata": {
  "kernelspec": {
   "display_name": "Python 3 (ipykernel)",
   "language": "python",
   "name": "python3"
  },
  "language_info": {
   "codemirror_mode": {
    "name": "ipython",
    "version": 3
   },
   "file_extension": ".py",
   "mimetype": "text/x-python",
   "name": "python",
   "nbconvert_exporter": "python",
   "pygments_lexer": "ipython3",
   "version": "3.9.12"
  }
 },
 "nbformat": 4,
 "nbformat_minor": 5
}
